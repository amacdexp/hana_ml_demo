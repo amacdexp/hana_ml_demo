{
 "cells": [
  {
   "cell_type": "markdown",
   "metadata": {},
   "source": [
    "# SAP Standard Example   -  One Class SVM\n",
    "\n",
    "(tweaked for MTA Projects  & HDI Containers)"
   ]
  },
  {
   "cell_type": "markdown",
   "metadata": {},
   "source": [
    "One Class SVM (outlier detection: classifying new data as similar or different to the training set)\n",
    "\n",
    "NOTE: SAP Example is quite poor at illustrating this algorthim"
   ]
  },
  {
   "cell_type": "code",
   "execution_count": 3,
   "metadata": {},
   "outputs": [
    {
     "data": {
      "text/html": [
       "<div>\n",
       "<style scoped>\n",
       "    .dataframe tbody tr th:only-of-type {\n",
       "        vertical-align: middle;\n",
       "    }\n",
       "\n",
       "    .dataframe tbody tr th {\n",
       "        vertical-align: top;\n",
       "    }\n",
       "\n",
       "    .dataframe thead th {\n",
       "        text-align: right;\n",
       "    }\n",
       "</style>\n",
       "<table border=\"1\" class=\"dataframe\">\n",
       "  <thead>\n",
       "    <tr style=\"text-align: right;\">\n",
       "      <th></th>\n",
       "      <th>ID</th>\n",
       "      <th>SCORE</th>\n",
       "      <th>PROBABILITY</th>\n",
       "    </tr>\n",
       "  </thead>\n",
       "  <tbody>\n",
       "    <tr>\n",
       "      <th>0</th>\n",
       "      <td>0</td>\n",
       "      <td>-1</td>\n",
       "      <td>None</td>\n",
       "    </tr>\n",
       "    <tr>\n",
       "      <th>1</th>\n",
       "      <td>1</td>\n",
       "      <td>1</td>\n",
       "      <td>None</td>\n",
       "    </tr>\n",
       "    <tr>\n",
       "      <th>2</th>\n",
       "      <td>2</td>\n",
       "      <td>1</td>\n",
       "      <td>None</td>\n",
       "    </tr>\n",
       "    <tr>\n",
       "      <th>3</th>\n",
       "      <td>3</td>\n",
       "      <td>-1</td>\n",
       "      <td>None</td>\n",
       "    </tr>\n",
       "    <tr>\n",
       "      <th>4</th>\n",
       "      <td>4</td>\n",
       "      <td>-1</td>\n",
       "      <td>None</td>\n",
       "    </tr>\n",
       "    <tr>\n",
       "      <th>5</th>\n",
       "      <td>5</td>\n",
       "      <td>-1</td>\n",
       "      <td>None</td>\n",
       "    </tr>\n",
       "    <tr>\n",
       "      <th>6</th>\n",
       "      <td>6</td>\n",
       "      <td>-1</td>\n",
       "      <td>None</td>\n",
       "    </tr>\n",
       "    <tr>\n",
       "      <th>7</th>\n",
       "      <td>7</td>\n",
       "      <td>1</td>\n",
       "      <td>None</td>\n",
       "    </tr>\n",
       "    <tr>\n",
       "      <th>8</th>\n",
       "      <td>8</td>\n",
       "      <td>-1</td>\n",
       "      <td>None</td>\n",
       "    </tr>\n",
       "    <tr>\n",
       "      <th>9</th>\n",
       "      <td>9</td>\n",
       "      <td>-1</td>\n",
       "      <td>None</td>\n",
       "    </tr>\n",
       "  </tbody>\n",
       "</table>\n",
       "</div>"
      ],
      "text/plain": [
       "   ID SCORE PROBABILITY\n",
       "0   0    -1        None\n",
       "1   1     1        None\n",
       "2   2     1        None\n",
       "3   3    -1        None\n",
       "4   4    -1        None\n",
       "5   5    -1        None\n",
       "6   6    -1        None\n",
       "7   7     1        None\n",
       "8   8    -1        None\n",
       "9   9    -1        None"
      ]
     },
     "execution_count": 3,
     "metadata": {},
     "output_type": "execute_result"
    }
   ],
   "source": [
    "## Import and Setup for using HDI Schema\n",
    "from hana_ml import dataframe\n",
    "from hana_ml.algorithms import svm\n",
    "dbSchema = 'HANA_ML_DEMO_HDI_DB_1'\n",
    "host =   'hxehost'\n",
    "port =   '39015'\n",
    "user =   'MLUSER'\n",
    "password = 'Password1'\n",
    "\n",
    "#define DataFrames\n",
    "connection_context = dataframe.ConnectionContext(host, int(port), user, password)\n",
    "df_fit = connection_context.table('examples.DATA_TBL_SVC_ONE', schema=dbSchema)  #'PAL_SVM_DATA_TBL'\n",
    "\n",
    "#Train\n",
    "svc_one = svm.OneClassSVM(connection_context, scale_info=0, category_weight=1)\n",
    "svc_one.fit(df_fit, ['ATTRIBUTE1', 'ATTRIBUTE2', 'ATTRIBUTE3', 'ATTRIBUTE4'])\n",
    "\n",
    "#Predict  #### Example uses same dataset as training, should use a different table\n",
    "df_predict = connection_context.table('examples.DATA_TBL_SVC_ONE', schema=dbSchema)  #'PAL_SVM_DATA_TBL'\n",
    "features = ['ATTRIBUTE1', 'ATTRIBUTE2', 'ATTRIBUTE3', 'ATTRIBUTE4']\n",
    "svc_one.predict(df_predict, features).head(10).collect()"
   ]
  },
  {
   "cell_type": "markdown",
   "metadata": {},
   "source": [
    "# SCIKIT Documentation Example - One Class SVM"
   ]
  },
  {
   "cell_type": "code",
   "execution_count": 4,
   "metadata": {},
   "outputs": [],
   "source": [
    "##  NONE"
   ]
  },
  {
   "cell_type": "markdown",
   "metadata": {},
   "source": [
    "# SCIKIT Example with Hana Dataset - One Class SVM"
   ]
  },
  {
   "cell_type": "code",
   "execution_count": 12,
   "metadata": {},
   "outputs": [
    {
     "data": {
      "text/plain": [
       "array([ 1,  1,  1,  1,  1, -1,  1,  1, -1,  1,  1,  1,  1,  1,  1])"
      ]
     },
     "execution_count": 12,
     "metadata": {},
     "output_type": "execute_result"
    }
   ],
   "source": [
    "## Import and Setup for using HDI Schema\n",
    "from sklearn import svm\n",
    "from sklearn.preprocessing import LabelEncoder\n",
    "import pandas as pd\n",
    "import numpy as np\n",
    "from hana_ml import dataframe\n",
    "\n",
    "labelencoder = LabelEncoder()\n",
    "\n",
    "dbSchema = 'HANA_ML_DEMO_HDI_DB_1'\n",
    "host =   'hxehost'\n",
    "port =   '39015'\n",
    "user =   'MLUSER'\n",
    "password = 'Password1'\n",
    "\n",
    "\n",
    "#define DataFrames\n",
    "connection_context = dataframe.ConnectionContext(host, int(port), user, password)\n",
    "df_fit = connection_context.table('examples.DATA_TBL_SVC_ONE', schema=dbSchema)  #'PAL_LOGISTICR_DATA_TBL'\n",
    "\n",
    "#Prepare Features Columns as numpy ndarray and Depedant Variable Column as \n",
    "pred_dfX = df_fit[['ATTRIBUTE1', 'ATTRIBUTE2', 'ATTRIBUTE3', 'ATTRIBUTE4']].collect().values\n",
    "#print (dfX)\n",
    "# Encoding V1 ALPHA \n",
    "pred_dfXoriginal =  pred_dfX.copy()\n",
    "pred_dfX[:, 3] = labelencoder.fit_transform(pred_dfX[:, 3])\n",
    "#print (pred_dfX)\n",
    "\n",
    "#Train\n",
    "svc_one = svm.OneClassSVM(nu=0.1, kernel=\"rbf\", gamma=0.1)\n",
    "svc_one.fit(pred_dfX)\n",
    "\n",
    "#Predict\n",
    "y_pred_test = svc_one.predict(pred_dfX)\n",
    "\n",
    "y_pred_test"
   ]
  },
  {
   "cell_type": "code",
   "execution_count": null,
   "metadata": {},
   "outputs": [],
   "source": []
  }
 ],
 "metadata": {
  "kernelspec": {
   "display_name": "Python 3",
   "language": "python",
   "name": "python3"
  },
  "language_info": {
   "codemirror_mode": {
    "name": "ipython",
    "version": 3
   },
   "file_extension": ".py",
   "mimetype": "text/x-python",
   "name": "python",
   "nbconvert_exporter": "python",
   "pygments_lexer": "ipython3",
   "version": "3.6.5"
  }
 },
 "nbformat": 4,
 "nbformat_minor": 2
}
